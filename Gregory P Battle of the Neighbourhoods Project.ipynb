{
    "cells": [
        {
            "cell_type": "markdown",
            "metadata": {
                "collapsed": true
            },
            "source": "# Gregory Pollard Battle of the Neighbourhoods Project"
        },
        {
            "cell_type": "markdown",
            "metadata": {},
            "source": "## Introduction/Business Problem:\n\n> I have been tasked by a restaurant chain with locations in many boroughs of New York to find an optimal location <br> for a new venue in southern Manhattan. The restaurants in this chain primarily serve pizza and so the institution would like recommendations on <br> where to place this new venue based on density of competitor pizza places in the area and also the ratings of these <br> other venues too. The company itself is very well known in New York and has recently acquired the funds to set up this new location<br> in the hopes that they can expand their business into Manhattan with more locations in the north to come down the line as well. I intend to analyse this data by clustering<br> it and finding a position in which there are few competitors, and also where the nearest pizza places have a low rating (so that they are not as difficult to compete with)."
        },
        {
            "cell_type": "markdown",
            "metadata": {},
            "source": "## Data\n\n> I will utilise the Foursquare API to acquire location data on other pizza places in Manhattan, I shall then cluster<br>these venues and decide where the optimal position for a new venue could be. To decide this optimal location, I will assess the positions <br>and ratings of each existing venue and choose a spot where there is a small number of competitors with <br>low ratings. Because of this, I will be using the \u201cSearch\u201d and \u201cLikes\u201d endpoints to acquire this data from foursquare, I will<br> also be using the K-means clustering algorithm to classify my data.<br><br>\nThe venues themselves will be local <br>pizza places such as \u201cPrince Street Pizza\u201d and \u201cJoe\u2019s Pizza\u201d, I will only be using venues in the southern areas of Manhattan<br> for this as it is the region in which the restaurant chain wishes to set up a new location. My centre point to retrieve this data<br> will be \u201cThe Sheen Center for Thought & Culture\u201d, which is a catholic-affiliated performing arts<br> complex with 2 theaters, rehearsal studios & an art gallery. From this location I will set a large radius for pizza places in Manhattan <br>and call the data with the Foursquare API.\n"
        },
        {
            "cell_type": "code",
            "execution_count": null,
            "metadata": {},
            "outputs": [],
            "source": ""
        }
    ],
    "metadata": {
        "kernelspec": {
            "display_name": "Python 3.7",
            "language": "python",
            "name": "python3"
        },
        "language_info": {
            "codemirror_mode": {
                "name": "ipython",
                "version": 3
            },
            "file_extension": ".py",
            "mimetype": "text/x-python",
            "name": "python",
            "nbconvert_exporter": "python",
            "pygments_lexer": "ipython3",
            "version": "3.7.9"
        }
    },
    "nbformat": 4,
    "nbformat_minor": 1
}